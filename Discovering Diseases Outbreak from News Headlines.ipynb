{
 "cells": [
  {
   "cell_type": "code",
   "execution_count": 524,
   "metadata": {},
   "outputs": [],
   "source": [
    "import unidecode\n",
    "import pandas as pd\n",
    "import numpy as np\n",
    "from pandas import DataFrame\n",
    "import re\n",
    "import geonamescache as gc"
   ]
  },
  {
   "cell_type": "code",
   "execution_count": 525,
   "metadata": {},
   "outputs": [],
   "source": [
    "def name_to_regex(name):    \n",
    "    decoded_name = unidecode.unidecode(name)\n",
    "    if name != decoded_name:\n",
    "        regex = fr'\\b({name}|{decoded_name})\\b'\n",
    "    else:\n",
    "        regex = fr'\\b{name}\\b'\n",
    "#    return re.compile(regex, flags=re.IGNORECASE)\n",
    "    return re.compile(regex)"
   ]
  },
  {
   "cell_type": "code",
   "execution_count": 526,
   "metadata": {},
   "outputs": [],
   "source": [
    "# For the countries, we need name and country code\n",
    "countriesGeo = {k: v.get('geonameid') for k, v in gc.GeonamesCache().get_countries_by_names().items()} \n",
    "countriesCC = {k: v.get('iso') for k, v in gc.GeonamesCache().get_countries_by_names().items()}"
   ]
  },
  {
   "cell_type": "code",
   "execution_count": 527,
   "metadata": {},
   "outputs": [],
   "source": [
    "# Joining the above in a countries dataframe\n",
    "countries = (pd.Series(countriesGeo).to_frame('countryGeonameid')\n",
    "           .join(pd.Series(countriesCC).to_frame('countryCode'), how='outer'))"
   ]
  },
  {
   "cell_type": "code",
   "execution_count": 528,
   "metadata": {},
   "outputs": [],
   "source": [
    "# Reindeixng the countries dataframe on the length of the country name\n",
    "countries.index.name = 'countryName'\n",
    "countries = countries.reset_index(level='countryName')\n",
    "indexCountry = countries.countryName.str.len().sort_values(ascending=False).index"
   ]
  },
  {
   "cell_type": "code",
   "execution_count": 529,
   "metadata": {},
   "outputs": [],
   "source": [
    "# Creating a dictionary with regexp and country name/code pair\n",
    "country_to_name={}\n",
    "for line in countries.reindex(indexCountry).to_dict('records'):\n",
    "    country_to_name[name_to_regex(line.get(\"countryName\"))] = [line.get(\"countryName\"),line.get(\"countryCode\")]\n"
   ]
  },
  {
   "cell_type": "code",
   "execution_count": 530,
   "metadata": {},
   "outputs": [],
   "source": [
    "# For cities, we need name and country code of the city\n",
    "citiesName = {k: v.get('name') for k, v in gc.GeonamesCache().get_cities().items()} \n",
    "citiesGeo = {k: v.get('geonameid') for k, v in gc.GeonamesCache().get_cities().items()}"
   ]
  },
  {
   "cell_type": "code",
   "execution_count": 531,
   "metadata": {},
   "outputs": [],
   "source": [
    "# Making a cities dataframe\n",
    "cities = (pd.Series(citiesName).to_frame('cityName')\n",
    "           .join(pd.Series(citiesGeo).to_frame('cityGeonameid'), how='outer'))"
   ]
  },
  {
   "cell_type": "code",
   "execution_count": 532,
   "metadata": {},
   "outputs": [],
   "source": [
    "# Reindexing the dataframe on the length of the city name\n",
    "citiesIndex = cities.cityName.str.len().sort_values(ascending=False).index"
   ]
  },
  {
   "cell_type": "code",
   "execution_count": 533,
   "metadata": {},
   "outputs": [],
   "source": [
    "# Creating a dictionary with regexp and city name/geonameID pair\n",
    "city_to_name={}\n",
    "for line in cities.reindex(citiesIndex).to_dict('records'):\n",
    "    city_to_name[name_to_regex(line.get(\"cityName\"))] = [line.get(\"cityName\"),line.get(\"cityGeonameid\")]"
   ]
  },
  {
   "cell_type": "code",
   "execution_count": 534,
   "metadata": {},
   "outputs": [],
   "source": [
    "# Getting US States name and geonameid\n",
    "# usStatesName = {k: v.get('name') for k, v in gc.GeonamesCache().get_us_states().items()}\n",
    "# usStatesGeo = {k: v.get('geonameid') for k, v in gc.GeonamesCache().get_us_states().items()}"
   ]
  },
  {
   "cell_type": "code",
   "execution_count": 535,
   "metadata": {},
   "outputs": [],
   "source": [
    "# Making a US States dataframe\n",
    "# usStates = (pd.Series(usStatesName).to_frame('usStateName')\n",
    "#           .join(pd.Series(usStatesGeo).to_frame('usStateGeonameid'), how='outer'))"
   ]
  },
  {
   "cell_type": "code",
   "execution_count": 536,
   "metadata": {},
   "outputs": [],
   "source": [
    "# Reindexing the dataframe on the length of the US State name\n",
    "# usStatesIndex = usStates.usStateName.str.len().sort_values(ascending=False).index"
   ]
  },
  {
   "cell_type": "code",
   "execution_count": 537,
   "metadata": {},
   "outputs": [],
   "source": [
    "# creating a dictionary of US States and their regexp\n",
    "# usStates_to_name = {}\n",
    "# for line in usStates.reindex(usStatesIndex).to_dict('records'):\n",
    "#    usStates_to_name[name_to_regex(line.get(\"usStateName\"))] = [line.get(\"usStateName\"),line.get(\"usStateGeonameid\")]"
   ]
  },
  {
   "cell_type": "code",
   "execution_count": 538,
   "metadata": {},
   "outputs": [],
   "source": [
    "# Creating a matching function to be used for:\n",
    "# either a country, or a city\n",
    "def get_match(text, dictionary):\n",
    "    for regex, [name, ID] in dictionary.items():\n",
    "        if regex.search(text):\n",
    "            return [name, ID]\n",
    "    return None"
   ]
  },
  {
   "cell_type": "code",
   "execution_count": 539,
   "metadata": {},
   "outputs": [],
   "source": [
    "# Reading the headlines.txt file and creating a list of headlines\n",
    "f = open('data/headlines.txt') \n",
    "headlines = f.read().split(\"\\n\") \n",
    "f.close()\n",
    "\n",
    "# Finding the countries in the headlines\n",
    "matched_countries = [get_match(headline, country_to_name)\n",
    "                  for headline in headlines]\n",
    "\n",
    "# Finding the US States in the headlines\n",
    "# matched_usStates = [get_match(headline, usStates_to_name)\n",
    "#                  for headline in headlines]\n",
    "\n",
    "\n",
    "# Finding the cities in the headlines\n",
    "matched_cities = [get_match(headline, city_to_name)\n",
    "                  for headline in headlines]"
   ]
  },
  {
   "cell_type": "code",
   "execution_count": 540,
   "metadata": {},
   "outputs": [],
   "source": [
    "# Creating a list of matching countries\n",
    "listcountries = []\n",
    "for i in range(len(matched_countries)):\n",
    "    if isinstance(matched_countries[i], list):\n",
    "        listcountries.append(matched_countries[i][0])\n",
    "    else:\n",
    "        listcountries.append('None')"
   ]
  },
  {
   "cell_type": "code",
   "execution_count": 541,
   "metadata": {},
   "outputs": [],
   "source": [
    "# Creating a list of matching cities\n",
    "listcities = []\n",
    "for i in range(len(matched_cities)):\n",
    "    if isinstance(matched_cities[i], list):\n",
    "        listcities.append(matched_cities[i][0])\n",
    "    else:\n",
    "        listcities.append('None')"
   ]
  },
  {
   "cell_type": "code",
   "execution_count": 542,
   "metadata": {},
   "outputs": [],
   "source": [
    "# Bring the lists into a dictionary\n",
    "data = {'Headline': headlines, 'City': listcities,\n",
    "           'Country': listcountries}\n",
    "# Making it a dataframe\n",
    "headlines_df = pd.DataFrame(data)"
   ]
  },
  {
   "cell_type": "code",
   "execution_count": 601,
   "metadata": {},
   "outputs": [
    {
     "data": {
      "text/html": [
       "<div>\n",
       "<style scoped>\n",
       "    .dataframe tbody tr th:only-of-type {\n",
       "        vertical-align: middle;\n",
       "    }\n",
       "\n",
       "    .dataframe tbody tr th {\n",
       "        vertical-align: top;\n",
       "    }\n",
       "\n",
       "    .dataframe thead th {\n",
       "        text-align: right;\n",
       "    }\n",
       "</style>\n",
       "<table border=\"1\" class=\"dataframe\">\n",
       "  <thead>\n",
       "    <tr style=\"text-align: right;\">\n",
       "      <th></th>\n",
       "      <th>Headline</th>\n",
       "      <th>City</th>\n",
       "      <th>Country</th>\n",
       "    </tr>\n",
       "  </thead>\n",
       "  <tbody>\n",
       "    <tr>\n",
       "      <th>0</th>\n",
       "      <td>Zika Outbreak Hits Miami</td>\n",
       "      <td>Miami</td>\n",
       "      <td>None</td>\n",
       "    </tr>\n",
       "    <tr>\n",
       "      <th>1</th>\n",
       "      <td>Could Zika Reach New York City?</td>\n",
       "      <td>New York City</td>\n",
       "      <td>None</td>\n",
       "    </tr>\n",
       "    <tr>\n",
       "      <th>2</th>\n",
       "      <td>First Case of Zika in Miami Beach</td>\n",
       "      <td>Miami Beach</td>\n",
       "      <td>None</td>\n",
       "    </tr>\n",
       "    <tr>\n",
       "      <th>3</th>\n",
       "      <td>Mystery Virus Spreads in Recife, Brazil</td>\n",
       "      <td>Recife</td>\n",
       "      <td>Brazil</td>\n",
       "    </tr>\n",
       "    <tr>\n",
       "      <th>4</th>\n",
       "      <td>Dallas man comes down with case of Zika</td>\n",
       "      <td>Dallas</td>\n",
       "      <td>None</td>\n",
       "    </tr>\n",
       "    <tr>\n",
       "      <th>5</th>\n",
       "      <td>Trinidad confirms first Zika case</td>\n",
       "      <td>Trinidad</td>\n",
       "      <td>None</td>\n",
       "    </tr>\n",
       "    <tr>\n",
       "      <th>6</th>\n",
       "      <td>Zika Concerns are Spreading in Houston</td>\n",
       "      <td>Houston</td>\n",
       "      <td>None</td>\n",
       "    </tr>\n",
       "    <tr>\n",
       "      <th>7</th>\n",
       "      <td>Geneve Scientists Battle to Find Cure</td>\n",
       "      <td>Genève</td>\n",
       "      <td>None</td>\n",
       "    </tr>\n",
       "    <tr>\n",
       "      <th>8</th>\n",
       "      <td>The CDC in Atlanta is Growing Worried</td>\n",
       "      <td>Atlanta</td>\n",
       "      <td>None</td>\n",
       "    </tr>\n",
       "    <tr>\n",
       "      <th>9</th>\n",
       "      <td>Zika Infested Monkeys in Sao Paulo</td>\n",
       "      <td>São Paulo</td>\n",
       "      <td>None</td>\n",
       "    </tr>\n",
       "    <tr>\n",
       "      <th>10</th>\n",
       "      <td>Brownsville teen contracts Zika virus</td>\n",
       "      <td>Brownsville</td>\n",
       "      <td>None</td>\n",
       "    </tr>\n",
       "    <tr>\n",
       "      <th>11</th>\n",
       "      <td>Mosquito control efforts in St. Louis take new...</td>\n",
       "      <td>St. Louis</td>\n",
       "      <td>None</td>\n",
       "    </tr>\n",
       "    <tr>\n",
       "      <th>12</th>\n",
       "      <td>San Juan reports 1st U.S. Zika-related death a...</td>\n",
       "      <td>San Juan</td>\n",
       "      <td>None</td>\n",
       "    </tr>\n",
       "    <tr>\n",
       "      <th>13</th>\n",
       "      <td>Flu outbreak in Galveston, Texas</td>\n",
       "      <td>Galveston</td>\n",
       "      <td>None</td>\n",
       "    </tr>\n",
       "    <tr>\n",
       "      <th>14</th>\n",
       "      <td>Zika alert – Manila now threatened</td>\n",
       "      <td>Manila</td>\n",
       "      <td>None</td>\n",
       "    </tr>\n",
       "    <tr>\n",
       "      <th>15</th>\n",
       "      <td>Zika afflicts 7 in Iloilo City</td>\n",
       "      <td>Iloilo</td>\n",
       "      <td>None</td>\n",
       "    </tr>\n",
       "    <tr>\n",
       "      <th>16</th>\n",
       "      <td>New Los Angeles Hairstyle goes Viral</td>\n",
       "      <td>Los Ángeles</td>\n",
       "      <td>None</td>\n",
       "    </tr>\n",
       "    <tr>\n",
       "      <th>17</th>\n",
       "      <td>Louisiana Zika cases up to 26</td>\n",
       "      <td>None</td>\n",
       "      <td>None</td>\n",
       "    </tr>\n",
       "    <tr>\n",
       "      <th>18</th>\n",
       "      <td>Orlando volunteers aid Zika research</td>\n",
       "      <td>Orlando</td>\n",
       "      <td>None</td>\n",
       "    </tr>\n",
       "    <tr>\n",
       "      <th>19</th>\n",
       "      <td>Zika infects pregnant woman in Cebu</td>\n",
       "      <td>None</td>\n",
       "      <td>None</td>\n",
       "    </tr>\n",
       "  </tbody>\n",
       "</table>\n",
       "</div>"
      ],
      "text/plain": [
       "                                             Headline           City Country\n",
       "0                            Zika Outbreak Hits Miami          Miami    None\n",
       "1                     Could Zika Reach New York City?  New York City    None\n",
       "2                   First Case of Zika in Miami Beach    Miami Beach    None\n",
       "3             Mystery Virus Spreads in Recife, Brazil         Recife  Brazil\n",
       "4             Dallas man comes down with case of Zika         Dallas    None\n",
       "5                   Trinidad confirms first Zika case       Trinidad    None\n",
       "6              Zika Concerns are Spreading in Houston        Houston    None\n",
       "7               Geneve Scientists Battle to Find Cure         Genève    None\n",
       "8               The CDC in Atlanta is Growing Worried        Atlanta    None\n",
       "9                  Zika Infested Monkeys in Sao Paulo      São Paulo    None\n",
       "10              Brownsville teen contracts Zika virus    Brownsville    None\n",
       "11  Mosquito control efforts in St. Louis take new...      St. Louis    None\n",
       "12  San Juan reports 1st U.S. Zika-related death a...       San Juan    None\n",
       "13                   Flu outbreak in Galveston, Texas      Galveston    None\n",
       "14                 Zika alert – Manila now threatened         Manila    None\n",
       "15                     Zika afflicts 7 in Iloilo City         Iloilo    None\n",
       "16               New Los Angeles Hairstyle goes Viral    Los Ángeles    None\n",
       "17                      Louisiana Zika cases up to 26           None    None\n",
       "18               Orlando volunteers aid Zika research        Orlando    None\n",
       "19                Zika infects pregnant woman in Cebu           None    None"
      ]
     },
     "execution_count": 601,
     "metadata": {},
     "output_type": "execute_result"
    }
   ],
   "source": [
    "headlines_df.head(20)"
   ]
  }
 ],
 "metadata": {
  "kernelspec": {
   "display_name": "Python 3",
   "language": "python",
   "name": "python3"
  },
  "language_info": {
   "codemirror_mode": {
    "name": "ipython",
    "version": 3
   },
   "file_extension": ".py",
   "mimetype": "text/x-python",
   "name": "python",
   "nbconvert_exporter": "python",
   "pygments_lexer": "ipython3",
   "version": "3.7.6"
  }
 },
 "nbformat": 4,
 "nbformat_minor": 4
}
